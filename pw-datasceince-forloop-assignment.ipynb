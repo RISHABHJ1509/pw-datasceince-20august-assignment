{
 "cells": [
  {
   "cell_type": "code",
   "execution_count": 29,
   "id": "a61d09ff",
   "metadata": {},
   "outputs": [
    {
     "name": "stdout",
     "output_type": "stream",
     "text": [
      "1\n",
      "2\n",
      "3\n",
      "4\n",
      "5\n",
      "6\n",
      "7\n",
      "8\n",
      "9\n",
      "10\n"
     ]
    }
   ],
   "source": [
    "#Basic Level:\n",
    "\n",
    "#1. Write a Python program to print the numbers from 1 to 10 using a `for` loop\n",
    "for i in range(1,11): # taking for loop in range till 11\n",
    "    print(i) # printing element"
   ]
  },
  {
   "cell_type": "code",
   "execution_count": 30,
   "id": "1d4dcbec",
   "metadata": {},
   "outputs": [
    {
     "data": {
      "text/plain": [
       "15"
      ]
     },
     "execution_count": 30,
     "metadata": {},
     "output_type": "execute_result"
    }
   ],
   "source": [
    "#2. Create a program that calculates the sum of all numbers in a list using a `for` loop.\n",
    "a = [1,2,3,4,5]\n",
    "sum = 0 # making a variable sum with value zero\n",
    "for i in a: # running a for loop for every element in a\n",
    "    sum = sum + i # adding i to sum\n",
    "sum    # printing sum"
   ]
  },
  {
   "cell_type": "code",
   "execution_count": 31,
   "id": "ee69c660",
   "metadata": {},
   "outputs": [
    {
     "name": "stdout",
     "output_type": "stream",
     "text": [
      "hbahsir\n"
     ]
    }
   ],
   "source": [
    "#3. Write a program to print the characters of a string in reverse order using a `for` loop\n",
    "a = \"rishabh\"\n",
    "str = \"\"\n",
    "for i in a:\n",
    "    str = i + str\n",
    "print(str)"
   ]
  },
  {
   "cell_type": "code",
   "execution_count": 32,
   "id": "c5c144bf",
   "metadata": {},
   "outputs": [
    {
     "name": "stdout",
     "output_type": "stream",
     "text": [
      "Enter a number: 5\n",
      "Factorial of the given number is:  120\n"
     ]
    }
   ],
   "source": [
    "#4. Develop a program that finds the factorial of a given number using a `for` loop\n",
    "n = int (input (\"Enter a number: \")) # getting input for the number\n",
    "factorial = 1 # starting number of factorial is 1\n",
    "if n >= 1:\n",
    "    for i in range (1, n+1): # running a for loop till range n\n",
    "        factorial=factorial *i # Multiplying factorial with i in loop\n",
    "print(\"Factorial of the given number is: \", factorial)"
   ]
  },
  {
   "cell_type": "code",
   "execution_count": 33,
   "id": "6bd88e3e",
   "metadata": {},
   "outputs": [
    {
     "name": "stdout",
     "output_type": "stream",
     "text": [
      "5\n",
      "10\n",
      "15\n",
      "20\n",
      "25\n",
      "30\n",
      "35\n",
      "40\n",
      "45\n",
      "50\n"
     ]
    }
   ],
   "source": [
    "#5. Create a program to print the multiplication table of a given number using a `for` loop.\n",
    "n = 5\n",
    "for i in range(1,11): # running a forloop till range 10\n",
    "    multi = n * i # multiplying b with i \n",
    "    print(multi) # printing number\n",
    "    i += 1        # skipping to next number"
   ]
  },
  {
   "cell_type": "code",
   "execution_count": 34,
   "id": "9baf49dd",
   "metadata": {},
   "outputs": [
    {
     "name": "stdout",
     "output_type": "stream",
     "text": [
      "event count :  5\n",
      "odd count :  5\n"
     ]
    }
   ],
   "source": [
    "#6. Write a program that counts the number of even and odd numbers in a list using a `for` loop.\n",
    "n = [1,2,3,4,5,6,7,8,9,10]\n",
    "count_even = 0\n",
    "count_odd = 0\n",
    "for i in n: # running a for loop\n",
    "    if i%2==0: # if its divisible 2 its even\n",
    "        count_even += 1 # adding count to even count\n",
    "    else:\n",
    "        count_odd += 1\n",
    "print(\"event count : \",count_even)\n",
    "print(\"odd count : \",count_odd)"
   ]
  },
  {
   "cell_type": "code",
   "execution_count": 35,
   "id": "81bcde73",
   "metadata": {},
   "outputs": [
    {
     "name": "stdout",
     "output_type": "stream",
     "text": [
      "1\n",
      "4\n",
      "9\n",
      "16\n",
      "25\n"
     ]
    }
   ],
   "source": [
    "#7. Develop a program that prints the squares of numbers from 1 to 5 using a `for` loop.\n",
    "for i in range(1,6):\n",
    "    i = i*i\n",
    "    print(i)"
   ]
  },
  {
   "cell_type": "code",
   "execution_count": 36,
   "id": "8b427fad",
   "metadata": {},
   "outputs": [
    {
     "name": "stdout",
     "output_type": "stream",
     "text": [
      "10\n"
     ]
    }
   ],
   "source": [
    "#8. Create a program to find the length of a string without using the `len()` function.\n",
    "a = [1,2,3,4,5,6,7,8,9,10]\n",
    "count = 0\n",
    "for i in a: #running a for loop each element in a\n",
    "    count += 1 # for every element it will add 1 to count\n",
    "print(count) # printing len of string"
   ]
  },
  {
   "cell_type": "code",
   "execution_count": 37,
   "id": "2b5783e0",
   "metadata": {},
   "outputs": [
    {
     "data": {
      "text/plain": [
       "5.5"
      ]
     },
     "execution_count": 37,
     "metadata": {},
     "output_type": "execute_result"
    }
   ],
   "source": [
    "#9. Write a program that calculates the average of a list of numbers using a `for` loop.\n",
    "a = [1,2,3,4,5,6,7,8,9,10]\n",
    "sum = 0\n",
    "for i in a: # running a for loop for counting sum in a\n",
    "    sum = sum + i \n",
    "avg = sum/len(a) # dividing sum of a by its length\n",
    "avg\n",
    "    "
   ]
  },
  {
   "cell_type": "code",
   "execution_count": 28,
   "id": "d66966ca",
   "metadata": {},
   "outputs": [
    {
     "name": "stdout",
     "output_type": "stream",
     "text": [
      "1\n",
      "2\n",
      "3\n",
      "5\n",
      "8\n",
      "13\n",
      "21\n",
      "34\n",
      "55\n",
      "89\n"
     ]
    }
   ],
   "source": [
    "#10. Develop a program that prints the first `n` Fibonacci numbers using a `for` loop\n",
    "n = 10\n",
    "f = 0\n",
    "sum = 1\n",
    "for x in range(1,n + 1): #for loop till range n\n",
    "        next = f + sum # starting add from 1\n",
    "        print(next)\n",
    "        f = sum # making second number to first\n",
    "        sum = next # making product to second number"
   ]
  },
  {
   "cell_type": "code",
   "execution_count": 12,
   "id": "c6f02216",
   "metadata": {},
   "outputs": [
    {
     "data": {
      "text/plain": [
       "'duplicate'"
      ]
     },
     "execution_count": 12,
     "metadata": {},
     "output_type": "execute_result"
    }
   ],
   "source": [
    "#Intermediate Level:\n",
    "\n",
    "#11. Write a program to check if a given list contains any duplicates using a `for` loop.\n",
    "a = [1,1,2,2,3,3,4,4]\n",
    "def duplicates(list):\n",
    "    for i in range(len(a)):\n",
    "        for j in range(0, i):  \n",
    "            if a[i] == a[j]:  \n",
    "                return 'duplicate'\n",
    "            else :\n",
    "                return 'unique'\n",
    "\n",
    "b = duplicates(a)\n",
    "b\n",
    "                    "
   ]
  },
  {
   "cell_type": "code",
   "execution_count": 18,
   "id": "1eae48d0",
   "metadata": {},
   "outputs": [
    {
     "name": "stdout",
     "output_type": "stream",
     "text": [
      "2\n",
      "3\n",
      "5\n",
      "7\n",
      "11\n",
      "13\n",
      "17\n",
      "19\n",
      "23\n",
      "29\n",
      "31\n",
      "37\n",
      "41\n",
      "43\n",
      "47\n"
     ]
    }
   ],
   "source": [
    "#12. Create a program that prints the prime numbers in a given range using a `for` loop.\n",
    "n = 50\n",
    "for i in range(1, n+1):\n",
    "    for j in range(2, n+1):\n",
    "        if i % j == 0:\n",
    "            break\n",
    "    if  i == j:\n",
    "        print(i)"
   ]
  },
  {
   "cell_type": "code",
   "execution_count": 19,
   "id": "c83210bc",
   "metadata": {},
   "outputs": [
    {
     "data": {
      "text/plain": [
       "2"
      ]
     },
     "execution_count": 19,
     "metadata": {},
     "output_type": "execute_result"
    }
   ],
   "source": [
    "#13. Develop a program that counts the number of vowels in a string using a `for` loop.\n",
    "a = 'rishabh'\n",
    "b = 'aeiouAEIOU'\n",
    "count = 0\n",
    "for i in a:\n",
    "    if i in b:\n",
    "        count+=1\n",
    "count"
   ]
  },
  {
   "cell_type": "code",
   "execution_count": 23,
   "id": "c2f6be44",
   "metadata": {},
   "outputs": [
    {
     "data": {
      "text/plain": [
       "9"
      ]
     },
     "execution_count": 23,
     "metadata": {},
     "output_type": "execute_result"
    }
   ],
   "source": [
    "#14. Write a program to find the maximum element in a 2D list using a nested `for` loop.\n",
    "a = [[1,2,3],[4,5,6],[7,8,9]]\n",
    "maxElement = 1\n",
    "for i in range(1,len(a)):\n",
    "    for j in range(1,len(a)):\n",
    "        if (a[i][j] > maxElement):\n",
    "            maxElement = a[i][j]\n",
    "            b = maxElement\n",
    "b\n",
    "         \n",
    "    "
   ]
  },
  {
   "cell_type": "code",
   "execution_count": 29,
   "id": "0a7c9004",
   "metadata": {},
   "outputs": [
    {
     "data": {
      "text/plain": [
       "[50, 60, 80, 40, 10, 20]"
      ]
     },
     "execution_count": 29,
     "metadata": {},
     "output_type": "execute_result"
    }
   ],
   "source": [
    "#15. Create a program that removes all occurrences of a specific element from a list using a `for` loop.\n",
    "a = [10,10,50,60,80,40,10,20]\n",
    "b = 10\n",
    "for i in a:\n",
    "    if i ==b:\n",
    "        a.remove(i)\n",
    "a"
   ]
  },
  {
   "cell_type": "code",
   "execution_count": 36,
   "id": "90e7b1f7",
   "metadata": {},
   "outputs": [
    {
     "name": "stdout",
     "output_type": "stream",
     "text": [
      "1 x 1 = 1\n",
      "1 x 2 = 2\n",
      "1 x 3 = 3\n",
      "1 x 4 = 4\n",
      "1 x 5 = 5\n",
      "1 x 6 = 6\n",
      "1 x 7 = 7\n",
      "1 x 8 = 8\n",
      "1 x 9 = 9\n",
      "1 x 10 = 10\n",
      "2 x 1 = 2\n",
      "2 x 2 = 4\n",
      "2 x 3 = 6\n",
      "2 x 4 = 8\n",
      "2 x 5 = 10\n",
      "2 x 6 = 12\n",
      "2 x 7 = 14\n",
      "2 x 8 = 16\n",
      "2 x 9 = 18\n",
      "2 x 10 = 20\n",
      "3 x 1 = 3\n",
      "3 x 2 = 6\n",
      "3 x 3 = 9\n",
      "3 x 4 = 12\n",
      "3 x 5 = 15\n",
      "3 x 6 = 18\n",
      "3 x 7 = 21\n",
      "3 x 8 = 24\n",
      "3 x 9 = 27\n",
      "3 x 10 = 30\n",
      "4 x 1 = 4\n",
      "4 x 2 = 8\n",
      "4 x 3 = 12\n",
      "4 x 4 = 16\n",
      "4 x 5 = 20\n",
      "4 x 6 = 24\n",
      "4 x 7 = 28\n",
      "4 x 8 = 32\n",
      "4 x 9 = 36\n",
      "4 x 10 = 40\n",
      "5 x 1 = 5\n",
      "5 x 2 = 10\n",
      "5 x 3 = 15\n",
      "5 x 4 = 20\n",
      "5 x 5 = 25\n",
      "5 x 6 = 30\n",
      "5 x 7 = 35\n",
      "5 x 8 = 40\n",
      "5 x 9 = 45\n",
      "5 x 10 = 50\n"
     ]
    }
   ],
   "source": [
    "#16. Develop a program that generates a multiplication table for numbers from 1 to 5 using a nested `for` loop.\n",
    "\n",
    "for i in range(1,6):\n",
    "    for j in range(1,11):\n",
    "        print(i,'x',j,'=',i*j )"
   ]
  },
  {
   "cell_type": "code",
   "execution_count": 43,
   "id": "4865b7dd",
   "metadata": {},
   "outputs": [
    {
     "name": "stdout",
     "output_type": "stream",
     "text": [
      "enter fahrenheit :100\n",
      "37.77777777777778\n"
     ]
    }
   ],
   "source": [
    "#17. Write a program that converts a list of Fahrenheit temperatures to Celsius using a `for` loop.\n",
    "f = float(input('enter fahrenheit :'))\n",
    "for i in a:\n",
    "    c = (f - 32) * 5/9\n",
    "print(c)"
   ]
  },
  {
   "cell_type": "code",
   "execution_count": 44,
   "id": "b7ced995",
   "metadata": {},
   "outputs": [
    {
     "name": "stdout",
     "output_type": "stream",
     "text": [
      "5\n",
      "6\n"
     ]
    }
   ],
   "source": [
    "#18. Create a program to print the common elements from two lists using a `for` loop.\n",
    "a = [1,2,3,4,5,6]\n",
    "b = [5,6,7,8,9,10]\n",
    "for i in a:\n",
    "    if i in b:\n",
    "        print(i)"
   ]
  },
  {
   "cell_type": "code",
   "execution_count": 46,
   "id": "7a869308",
   "metadata": {},
   "outputs": [
    {
     "name": "stdout",
     "output_type": "stream",
     "text": [
      "*\n",
      "**\n",
      "***\n",
      "****\n",
      "*****\n"
     ]
    }
   ],
   "source": [
    "#19. Develop a program that prints the pattern of right-angled triangles using a `for` loop. Use ‘*’ to draw the pattern\n",
    "a = '*'\n",
    "n = 5\n",
    "for i in range(1,n+1):\n",
    "    print(i*'*')"
   ]
  },
  {
   "cell_type": "code",
   "execution_count": 54,
   "id": "56d71f4f",
   "metadata": {},
   "outputs": [
    {
     "data": {
      "text/plain": [
       "5"
      ]
     },
     "execution_count": 54,
     "metadata": {},
     "output_type": "execute_result"
    }
   ],
   "source": [
    "#20. Write a program to find the greatest common divisor (GCD) of two numbers using a `for` loop\n",
    "a = 50\n",
    "b = 45\n",
    "if a > b:  # define the if condition  \n",
    "    temp = b  \n",
    "else:  \n",
    "    temp = a  \n",
    "for i in range(1, temp + 1):  \n",
    "    if (( a % i == 0) and (b % i == 0 )):  \n",
    "        gcd = i\n",
    "gcd"
   ]
  },
  {
   "cell_type": "code",
   "execution_count": 15,
   "id": "f9452085",
   "metadata": {},
   "outputs": [
    {
     "data": {
      "text/plain": [
       "10"
      ]
     },
     "execution_count": 15,
     "metadata": {},
     "output_type": "execute_result"
    }
   ],
   "source": [
    "#Advanced Level:\n",
    "    \n",
    "#21. Create a program that calculates the sum of the digits of numbers in a list using a list comprehension.\n",
    "a = [1,2,3,4]\n",
    "sum = 0\n",
    "b = [sum:=sum+i for i in a]\n",
    "sum"
   ]
  },
  {
   "cell_type": "code",
   "execution_count": 2,
   "id": "c53fc4c7",
   "metadata": {},
   "outputs": [
    {
     "name": "stdout",
     "output_type": "stream",
     "text": [
      "Enter a number: 120\n",
      "Prime factors of 120 are: [2, 3, 5]\n"
     ]
    }
   ],
   "source": [
    "#22. Write a program to find the prime factors of a given number using a `for` loop and list comprehension.\n",
    "def is_prime(n):\n",
    "    if n <= 1:\n",
    "        return False\n",
    "    if n <= 3:\n",
    "        return True\n",
    "    if n % 2 == 0 or n % 3 == 0:\n",
    "        return False\n",
    "    i = 5\n",
    "    while i * i <= n:\n",
    "        if n % i == 0 or n % (i + 2) == 0:\n",
    "            return False\n",
    "        i += 6\n",
    "    return True\n",
    "\n",
    "def prime_factors(n):\n",
    "    factors = [x for x in range(2, n + 1) if n % x == 0 and is_prime(x)]\n",
    "    return factors\n",
    "\n",
    "num = int(input(\"Enter a number: \"))\n",
    "print(f\"Prime factors of {num} are: {prime_factors(num)}\")"
   ]
  },
  {
   "cell_type": "code",
   "execution_count": 5,
   "id": "e6c495c0",
   "metadata": {},
   "outputs": [
    {
     "data": {
      "text/plain": [
       "[2, 4, 6]"
      ]
     },
     "execution_count": 5,
     "metadata": {},
     "output_type": "execute_result"
    }
   ],
   "source": [
    "#23. Develop a program that extracts unique elements from a list and stores them in a new list using a list comprehension.\n",
    "a = [1,1,1,2,3,3,3,4,5,5,5,6]\n",
    "unique = []\n",
    "b = [unique.append(i) for i in a if a.count(i)==1]\n",
    "unique"
   ]
  },
  {
   "cell_type": "code",
   "execution_count": 13,
   "id": "6fa92aa0",
   "metadata": {},
   "outputs": [
    {
     "data": {
      "text/plain": [
       "[0, 1, 2, 3, 4, 5, 6, 7, 8, 9, 11, 22, 33, 44]"
      ]
     },
     "execution_count": 13,
     "metadata": {},
     "output_type": "execute_result"
    }
   ],
   "source": [
    "#24. Create a program that generates a list of all palindromic numbers up to a specified limit using a list comprehension.\n",
    "n=50\n",
    "a = [i for i in range(n) if str(i)==str(i)[::-1]]\n",
    "a"
   ]
  },
  {
   "cell_type": "code",
   "execution_count": 16,
   "id": "cf821050",
   "metadata": {},
   "outputs": [
    {
     "data": {
      "text/plain": [
       "[1, 2, 3, 4, 5, 6, 7, 8, 9]"
      ]
     },
     "execution_count": 16,
     "metadata": {},
     "output_type": "execute_result"
    }
   ],
   "source": [
    "#25. Write a program to flatten a nested list using list comprehension.\n",
    "a = [[1,2,3],[4,5,6],[7,8,9]]\n",
    "b = [j for i in a for j in i  ]\n",
    "b"
   ]
  },
  {
   "cell_type": "code",
   "execution_count": 21,
   "id": "1ba95232",
   "metadata": {},
   "outputs": [
    {
     "name": "stdout",
     "output_type": "stream",
     "text": [
      "Even sum: 30\n",
      "Odd sum: 25\n"
     ]
    }
   ],
   "source": [
    "#26. Develop a program that computes the sum of even and odd numbers in a list separately using list comprehension.\n",
    "numbers = [1, 2, 3, 4, 5, 6, 7, 8, 9, 10]\n",
    "\n",
    "# Compute the sum of even and odd numbers separately using list comprehensions\n",
    "even_sum = sum([num for num in numbers if num % 2 == 0])\n",
    "odd_sum = sum([num for num in numbers if num % 2 != 0])\n",
    "\n",
    "# Print the results\n",
    "print(\"Even sum:\", even_sum)\n",
    "print(\"Odd sum:\", odd_sum)"
   ]
  },
  {
   "cell_type": "code",
   "execution_count": 22,
   "id": "2ca23568",
   "metadata": {},
   "outputs": [
    {
     "data": {
      "text/plain": [
       "[1, 9, 25, 49, 81]"
      ]
     },
     "execution_count": 22,
     "metadata": {},
     "output_type": "execute_result"
    }
   ],
   "source": [
    "#27. Create a program that generates a list of squares of odd numbers between 1 and 10 using list comprehension.\n",
    "a = [i*i for i in range(11) if i%2!=0]\n",
    "a\n"
   ]
  },
  {
   "cell_type": "code",
   "execution_count": 23,
   "id": "f5d1ce50",
   "metadata": {},
   "outputs": [
    {
     "data": {
      "text/plain": [
       "{'a': 1, 'b': 2, 'c': 3}"
      ]
     },
     "execution_count": 23,
     "metadata": {},
     "output_type": "execute_result"
    }
   ],
   "source": [
    "#28. Write a program that combines two lists into a dictionary using list comprehension.\n",
    "keys = ['a', 'b', 'c']\n",
    "values = [1, 2, 3]\n",
    "\n",
    "# Combine the lists into a dictionary using list comprehension\n",
    "combined_dict = {key: value for key, value in zip(keys, values)}\n",
    "combined_dict"
   ]
  },
  {
   "cell_type": "code",
   "execution_count": 24,
   "id": "e797ad92",
   "metadata": {},
   "outputs": [
    {
     "data": {
      "text/plain": [
       "['i', 'a']"
      ]
     },
     "execution_count": 24,
     "metadata": {},
     "output_type": "execute_result"
    }
   ],
   "source": [
    "#29. Develop a program that extracts the vowels from a string and stores them in a list using list comprehension.\n",
    "a = 'rishabh'\n",
    "b = 'aeiouAEIOU'\n",
    "c = []\n",
    "d = [c.append(i) for i in a if i in b]\n",
    "c\n"
   ]
  },
  {
   "cell_type": "code",
   "execution_count": 32,
   "id": "583ff32f",
   "metadata": {},
   "outputs": [
    {
     "data": {
      "text/plain": [
       "['abc', 'def', 'gh', 'ij']"
      ]
     },
     "execution_count": 32,
     "metadata": {},
     "output_type": "execute_result"
    }
   ],
   "source": [
    "#30. Create a program that removes all non-numeric characters from a list of strings using list comprehension\n",
    "strings = ['abc123', '45def', '6g7h', '8ij9']\n",
    "\n",
    "# Remove non-numeric characters using list comprehension\n",
    "numeric_strings = [''.join(filter(str.isalpha, string)) for string in strings]\n",
    "numeric_strings"
   ]
  },
  {
   "cell_type": "code",
   "execution_count": 33,
   "id": "8d3c40f3",
   "metadata": {},
   "outputs": [
    {
     "name": "stdout",
     "output_type": "stream",
     "text": [
      "Enter the limit for prime numbers: 50\n",
      "Prime numbers up to 50 are: [2, 3, 5, 7, 11, 13, 17, 19, 23, 29, 31, 37, 41, 43, 47]\n"
     ]
    }
   ],
   "source": [
    "#Challenge Level:\n",
    "\n",
    "#31. Write a program to generate a list of prime numbers using the Sieve of Eratosthenes algorithm and list comprehension.\n",
    "def sieve_of_eratosthenes(limit):\n",
    "    sieve = [True] * (limit + 1)\n",
    "    sieve[0:2] = [False, False]\n",
    "\n",
    "    for number in range(2, int(limit**0.5) + 1):\n",
    "        if sieve[number]:\n",
    "            for multiple in range(number*number, limit + 1, number):\n",
    "                sieve[multiple] = False\n",
    "\n",
    "    primes = [number for number, is_prime in enumerate(sieve) if is_prime]\n",
    "    return primes\n",
    "\n",
    "# Specify the limit for generating prime numbers\n",
    "limit = int(input(\"Enter the limit for prime numbers: \"))\n",
    "\n",
    "prime_numbers = sieve_of_eratosthenes(limit)\n",
    "print(\"Prime numbers up to\", limit, \"are:\", prime_numbers)"
   ]
  },
  {
   "cell_type": "code",
   "execution_count": 47,
   "id": "412a03a6",
   "metadata": {},
   "outputs": [
    {
     "data": {
      "text/plain": [
       "[(3, 4, 5),\n",
       " (5, 12, 13),\n",
       " (6, 8, 10),\n",
       " (7, 24, 25),\n",
       " (8, 15, 17),\n",
       " (9, 12, 15),\n",
       " (9, 40, 41),\n",
       " (10, 24, 26),\n",
       " (12, 16, 20),\n",
       " (12, 35, 37),\n",
       " (15, 20, 25),\n",
       " (15, 36, 39),\n",
       " (16, 30, 34),\n",
       " (18, 24, 30),\n",
       " (20, 21, 29),\n",
       " (21, 28, 35),\n",
       " (24, 32, 40),\n",
       " (27, 36, 45)]"
      ]
     },
     "execution_count": 47,
     "metadata": {},
     "output_type": "execute_result"
    }
   ],
   "source": [
    "#32. Create a program that generates a list of all Pythagorean triplets up to a specified limit using list comprehension.\n",
    "limit = 50\n",
    "triplets = [(a, b, c) for a in range(1, limit)\n",
    "                          for b in range(a, limit)\n",
    "                          for c in range(b, limit)\n",
    "                          if a**2 + b**2 == c**2]\n",
    "triplets"
   ]
  },
  {
   "cell_type": "code",
   "execution_count": 49,
   "id": "3b6c4e7d",
   "metadata": {},
   "outputs": [
    {
     "data": {
      "text/plain": [
       "[(1, 5),\n",
       " (1, 6),\n",
       " (1, 7),\n",
       " (1, 8),\n",
       " (2, 5),\n",
       " (2, 6),\n",
       " (2, 7),\n",
       " (2, 8),\n",
       " (3, 5),\n",
       " (3, 6),\n",
       " (3, 7),\n",
       " (3, 8),\n",
       " (4, 5),\n",
       " (4, 6),\n",
       " (4, 7),\n",
       " (4, 8)]"
      ]
     },
     "execution_count": 49,
     "metadata": {},
     "output_type": "execute_result"
    }
   ],
   "source": [
    "#33. Develop a program that generates a list of all possible combinations of two lists using list comprehension.\n",
    "a = [1,2,3,4]\n",
    "b = [5,6,7,8]\n",
    "c= [(i,j) for i in a for j in b ]\n",
    "c"
   ]
  },
  {
   "cell_type": "code",
   "execution_count": 57,
   "id": "6eb631ca",
   "metadata": {},
   "outputs": [
    {
     "name": "stdout",
     "output_type": "stream",
     "text": [
      "Mean: 4.5\n",
      "Median: 5.0\n",
      "Mode: 6\n"
     ]
    }
   ],
   "source": [
    "#34. Write a program that calculates the mean, median, and mode of a list of numbers using list comprehension.\\\n",
    "from statistics import mean, median, mode\n",
    "\n",
    "# Sample list of numbers\n",
    "numbers = [1, 2, 3, 4, 5, 5, 6, 6, 6, 7]\n",
    "\n",
    "# Calculate mean, median, and mode using list comprehension\n",
    "mean_value = mean(numbers)\n",
    "median_value = median(numbers)\n",
    "mode_value = mode(numbers)\n",
    "\n",
    "# Print the results\n",
    "print(\"Mean:\", mean_value)\n",
    "print(\"Median:\", median_value)\n",
    "print(\"Mode:\", mode_value)"
   ]
  },
  {
   "cell_type": "code",
   "execution_count": 58,
   "id": "2554dbce",
   "metadata": {},
   "outputs": [
    {
     "name": "stdout",
     "output_type": "stream",
     "text": [
      "Enter the number of rows for Pascal's triangle: 5\n",
      "       1       \n",
      "      1 1      \n",
      "     1 2 1     \n",
      "    1 3 3 1    \n",
      "   1 4 6 4 1   \n"
     ]
    }
   ],
   "source": [
    "#35. Create a program that generates Pascal's triangle up to a specified number of rows using list comprehension.\n",
    "def generate_pascals_triangle(num_rows):\n",
    "    if num_rows <= 0:\n",
    "        return []\n",
    "\n",
    "    pascals_triangle = [[1]]\n",
    "    for i in range(1, num_rows):\n",
    "        previous_row = pascals_triangle[-1]\n",
    "        new_row = [1] + [previous_row[j] + previous_row[j + 1] for j in range(len(previous_row) - 1)] + [1]\n",
    "        pascals_triangle.append(new_row)\n",
    "\n",
    "    return pascals_triangle\n",
    "\n",
    "# Specify the number of rows for Pascal's triangle\n",
    "num_rows = int(input(\"Enter the number of rows for Pascal's triangle: \"))\n",
    "\n",
    "triangle = generate_pascals_triangle(num_rows)\n",
    "\n",
    "# Display Pascal's triangle\n",
    "for row in triangle:\n",
    "    print(\" \".join(map(str, row)).center(num_rows * 3))"
   ]
  },
  {
   "cell_type": "code",
   "execution_count": 12,
   "id": "07b15174",
   "metadata": {},
   "outputs": [
    {
     "name": "stdout",
     "output_type": "stream",
     "text": [
      "The factorial of 1 is 1 and the sum of its digits is 1\n",
      "The factorial of 2 is 2 and the sum of its digits is 2\n",
      "The factorial of 3 is 6 and the sum of its digits is 6\n",
      "The factorial of 4 is 24 and the sum of its digits is 6\n",
      "The factorial of 5 is 120 and the sum of its digits is 3\n"
     ]
    }
   ],
   "source": [
    "#36. Develop a program that calculates the sum of the digits of a factorial of numbers from 1 to 5 using list comprehension.\n",
    "import math\n",
    "\n",
    "# Function to calculate the factorial of a number\n",
    "def factorial(n):\n",
    "    return math.factorial(n)\n",
    "\n",
    "# Function to calculate the sum of the digits of a number\n",
    "def sum_of_digits(number):\n",
    "    return sum(int(digit) for digit in str(number))\n",
    "\n",
    "# Calculate the factorial and sum of digits for numbers from 1 to 5\n",
    "results = [(n, factorial(n), sum_of_digits(factorial(n))) for n in range(1, 6)]\n",
    "\n",
    "# Display the results\n",
    "for n, fact, digit_sum in results:\n",
    "    print(f\"The factorial of {n} is {fact} and the sum of its digits is {digit_sum}\")"
   ]
  },
  {
   "cell_type": "code",
   "execution_count": 9,
   "id": "74d43882",
   "metadata": {},
   "outputs": [
    {
     "name": "stdout",
     "output_type": "stream",
     "text": [
      "The longest word in the sentence is: rishabh\n"
     ]
    }
   ],
   "source": [
    "#37. Write a program that finds the longest word in a sentence using list comprehension.\n",
    "a = 'my name is rishabh jaiswal'\n",
    "\n",
    "# Split the sentence into words using list comprehension\n",
    "words = a.split()\n",
    "\n",
    "# Find the longest word using list comprehension\n",
    "longest_word = max(words, key=lambda word: len(word))\n",
    "\n",
    "print(\"The longest word in the sentence is:\", longest_word)"
   ]
  },
  {
   "cell_type": "code",
   "execution_count": 12,
   "id": "5605e8d0",
   "metadata": {},
   "outputs": [
    {
     "data": {
      "text/plain": [
       "['aeiou']"
      ]
     },
     "execution_count": 12,
     "metadata": {},
     "output_type": "execute_result"
    }
   ],
   "source": [
    "#38. Create a program that filters a list of strings to include only those with more than three vowels using list comprehension.\n",
    "a = ['rishabh','jaiswal','aeiou']\n",
    "b = 'aeiouAEIOU'\n",
    "c = [i for i in a if i in b and len(i)>=3]\n",
    "c"
   ]
  },
  {
   "cell_type": "code",
   "execution_count": 16,
   "id": "73db8913",
   "metadata": {},
   "outputs": [
    {
     "data": {
      "text/plain": [
       "500500"
      ]
     },
     "execution_count": 16,
     "metadata": {},
     "output_type": "execute_result"
    }
   ],
   "source": [
    "#39. Develop a program that calculates the sum of the digits of numbers from 1 to 1000 using list comprehension.\n",
    "sum = 0\n",
    "b = [sum:=sum+i for i in range(1,1001)]\n",
    "sum"
   ]
  },
  {
   "cell_type": "code",
   "execution_count": 26,
   "id": "5cb1dda4",
   "metadata": {},
   "outputs": [
    {
     "name": "stdout",
     "output_type": "stream",
     "text": [
      "Prime palindromic numbers: [2, 3, 5, 7, 11, 101, 131, 151, 181, 191, 313, 353, 373, 383, 727, 757, 787, 797, 919, 929]\n"
     ]
    }
   ],
   "source": [
    "# 40. Write a program that generates a list of prime palindromic numbers using list comprehension.\n",
    "\n",
    "def is_prime(num):\n",
    "    if num <= 1:\n",
    "        return False\n",
    "    for i in range(2, int(num**0.5) + 1):\n",
    "        if num % i == 0:\n",
    "            return False\n",
    "    return True\n",
    "\n",
    "def is_palindromic(num):\n",
    "    return str(num) == str(num)[::-1]\n",
    "\n",
    "# Generate a list of prime palindromic numbers using list comprehension\n",
    "prime_palindromic_numbers = [num for num in range(2, 1000) if is_prime(num) and is_palindromic(num)]\n",
    "\n",
    "print(\"Prime palindromic numbers:\", prime_palindromic_numbers)"
   ]
  },
  {
   "cell_type": "code",
   "execution_count": null,
   "id": "11020e1c",
   "metadata": {},
   "outputs": [],
   "source": []
  }
 ],
 "metadata": {
  "kernelspec": {
   "display_name": "Python 3 (ipykernel)",
   "language": "python",
   "name": "python3"
  },
  "language_info": {
   "codemirror_mode": {
    "name": "ipython",
    "version": 3
   },
   "file_extension": ".py",
   "mimetype": "text/x-python",
   "name": "python",
   "nbconvert_exporter": "python",
   "pygments_lexer": "ipython3",
   "version": "3.11.4"
  }
 },
 "nbformat": 4,
 "nbformat_minor": 5
}
